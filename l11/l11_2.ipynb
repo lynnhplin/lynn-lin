{
 "cells": [
  {
   "cell_type": "code",
   "execution_count": 2,
   "metadata": {},
   "outputs": [],
   "source": [
    "import requests"
   ]
  },
  {
   "cell_type": "code",
   "execution_count": 3,
   "metadata": {},
   "outputs": [
    {
     "name": "stdout",
     "output_type": "stream",
     "text": [
      "下載成功\n"
     ]
    }
   ],
   "source": [
    "from requests import Response\n",
    "\n",
    "aqi_url = 'https://data.moenv.gov.tw/api/v2/aqx_p_488?api_key=e8dd42e6-9b8b-43f8-991e-b3dee723a52d&limit=1000&sort=datacreationdate desc&format=JSON'\n",
    "res:Response = requests.get(aqi_url)\n",
    "\n",
    "if res.status_code == 200:\n",
    "    print(\"下載成功\")\n",
    "else:\n",
    "    print(\"下載失敗\")"
   ]
  },
  {
   "cell_type": "code",
   "execution_count": 4,
   "metadata": {},
   "outputs": [
    {
     "name": "stdout",
     "output_type": "stream",
     "text": [
      "('由本平臺呼叫環境資料開放平臺之資料集乃以共用API KEY '\n",
      " '方式供應，因受限於資源分配，系統忙碌中，請稍後再試，如係程式自動介接應用歡迎至環保署環境資料開放平臺(data.moenv.gov.tw)的開發指南申請個人專屬API '\n",
      " '金鑰，以提升資料索取權限')\n"
     ]
    }
   ],
   "source": [
    "from pprint import pprint\n",
    "pprint(res.text)"
   ]
  },
  {
   "cell_type": "code",
   "execution_count": 5,
   "metadata": {},
   "outputs": [],
   "source": [
    "from pprint import pprint\n",
    "from pydantic import BaseModel,Field,field_validator\n",
    "\n",
    "class site(BaseModel):\n",
    "    sitename:str\n",
    "    county:str\n",
    "    aqi:int\n",
    "    status:str\n",
    "    pm25:float = Field(alias='pm2.5')\n",
    "    so2:float\n",
    "    datacreationdate:str\n",
    "\n",
    "    @field_validator('so2','pm25',mode='before')\n",
    "    @classmethod\n",
    "    def empty_to_zero(cls,value:str) -> str:\n",
    "        if value =='':\n",
    "            return '0.0'\n",
    "        else:\n",
    "            return value\n",
    "        \n",
    "class AQI(BaseModel):\n",
    "     records:list[site]       \n",
    "       "
   ]
  },
  {
   "cell_type": "code",
   "execution_count": 6,
   "metadata": {},
   "outputs": [
    {
     "ename": "ValidationError",
     "evalue": "1 validation error for AQI\n  Invalid JSON: expected value at line 1 column 1 [type=json_invalid, input_value='由本平臺呼叫環境...升資料索取權限', input_type=str]\n    For further information visit https://errors.pydantic.dev/2.7/v/json_invalid",
     "output_type": "error",
     "traceback": [
      "\u001b[0;31m---------------------------------------------------------------------------\u001b[0m",
      "\u001b[0;31mValidationError\u001b[0m                           Traceback (most recent call last)",
      "Cell \u001b[0;32mIn[6], line 1\u001b[0m\n\u001b[0;32m----> 1\u001b[0m allData:AQI \u001b[38;5;241m=\u001b[39m \u001b[43mAQI\u001b[49m\u001b[38;5;241;43m.\u001b[39;49m\u001b[43mmodel_validate_json\u001b[49m\u001b[43m(\u001b[49m\u001b[43mres\u001b[49m\u001b[38;5;241;43m.\u001b[39;49m\u001b[43mtext\u001b[49m\u001b[43m)\u001b[49m\n\u001b[1;32m      2\u001b[0m allData\n",
      "File \u001b[0;32m~/.local/lib/python3.10/site-packages/pydantic/main.py:580\u001b[0m, in \u001b[0;36mBaseModel.model_validate_json\u001b[0;34m(cls, json_data, strict, context)\u001b[0m\n\u001b[1;32m    578\u001b[0m \u001b[38;5;66;03m# `__tracebackhide__` tells pytest and some other tools to omit this function from tracebacks\u001b[39;00m\n\u001b[1;32m    579\u001b[0m __tracebackhide__ \u001b[38;5;241m=\u001b[39m \u001b[38;5;28;01mTrue\u001b[39;00m\n\u001b[0;32m--> 580\u001b[0m \u001b[38;5;28;01mreturn\u001b[39;00m \u001b[38;5;28;43mcls\u001b[39;49m\u001b[38;5;241;43m.\u001b[39;49m\u001b[43m__pydantic_validator__\u001b[49m\u001b[38;5;241;43m.\u001b[39;49m\u001b[43mvalidate_json\u001b[49m\u001b[43m(\u001b[49m\u001b[43mjson_data\u001b[49m\u001b[43m,\u001b[49m\u001b[43m \u001b[49m\u001b[43mstrict\u001b[49m\u001b[38;5;241;43m=\u001b[39;49m\u001b[43mstrict\u001b[49m\u001b[43m,\u001b[49m\u001b[43m \u001b[49m\u001b[43mcontext\u001b[49m\u001b[38;5;241;43m=\u001b[39;49m\u001b[43mcontext\u001b[49m\u001b[43m)\u001b[49m\n",
      "\u001b[0;31mValidationError\u001b[0m: 1 validation error for AQI\n  Invalid JSON: expected value at line 1 column 1 [type=json_invalid, input_value='由本平臺呼叫環境...升資料索取權限', input_type=str]\n    For further information visit https://errors.pydantic.dev/2.7/v/json_invalid"
     ]
    }
   ],
   "source": [
    "allData:AQI = AQI.model_validate_json(res.text)\n",
    "allData"
   ]
  },
  {
   "cell_type": "code",
   "execution_count": 1,
   "metadata": {},
   "outputs": [
    {
     "ename": "NameError",
     "evalue": "name 'allData' is not defined",
     "output_type": "error",
     "traceback": [
      "\u001b[0;31m---------------------------------------------------------------------------\u001b[0m",
      "\u001b[0;31mNameError\u001b[0m                                 Traceback (most recent call last)",
      "Cell \u001b[0;32mIn[1], line 1\u001b[0m\n\u001b[0;32m----> 1\u001b[0m \u001b[38;5;28;01mfor\u001b[39;00m site \u001b[38;5;129;01min\u001b[39;00m \u001b[43mallData\u001b[49m\u001b[38;5;241m.\u001b[39mrecords:\n\u001b[1;32m      2\u001b[0m     \u001b[38;5;28mprint\u001b[39m(site)\n",
      "\u001b[0;31mNameError\u001b[0m: name 'allData' is not defined"
     ]
    }
   ],
   "source": [
    "for site in allData.records:\n",
    "    print(site)\n"
   ]
  }
 ],
 "metadata": {
  "kernelspec": {
   "display_name": "Python 3",
   "language": "python",
   "name": "python3"
  },
  "language_info": {
   "codemirror_mode": {
    "name": "ipython",
    "version": 3
   },
   "file_extension": ".py",
   "mimetype": "text/x-python",
   "name": "python",
   "nbconvert_exporter": "python",
   "pygments_lexer": "ipython3",
   "version": "3.10.14"
  }
 },
 "nbformat": 4,
 "nbformat_minor": 2
}
