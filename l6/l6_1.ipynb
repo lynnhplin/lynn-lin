{
 "cells": [
  {
   "cell_type": "code",
   "execution_count": 1,
   "metadata": {},
   "outputs": [
    {
     "data": {
      "text/plain": [
       "True"
      ]
     },
     "execution_count": 1,
     "metadata": {},
     "output_type": "execute_result"
    }
   ],
   "source": [
    "1 == 1"
   ]
  },
  {
   "cell_type": "code",
   "execution_count": 3,
   "metadata": {},
   "outputs": [
    {
     "data": {
      "text/plain": [
       "False"
      ]
     },
     "execution_count": 3,
     "metadata": {},
     "output_type": "execute_result"
    }
   ],
   "source": [
    "2 == 3\n"
   ]
  },
  {
   "cell_type": "code",
   "execution_count": 4,
   "metadata": {},
   "outputs": [
    {
     "data": {
      "text/plain": [
       "True"
      ]
     },
     "execution_count": 4,
     "metadata": {},
     "output_type": "execute_result"
    }
   ],
   "source": [
    "5 > 3"
   ]
  },
  {
   "cell_type": "code",
   "execution_count": 5,
   "metadata": {},
   "outputs": [
    {
     "data": {
      "text/plain": [
       "True"
      ]
     },
     "execution_count": 5,
     "metadata": {},
     "output_type": "execute_result"
    }
   ],
   "source": [
    "5 < 8\n"
   ]
  },
  {
   "cell_type": "code",
   "execution_count": 7,
   "metadata": {},
   "outputs": [
    {
     "name": "stdout",
     "output_type": "stream",
     "text": [
      "可以投票\n",
      "可以考照\n",
      "結束\n"
     ]
    }
   ],
   "source": [
    "age = 19 \n",
    "if age >= 18:\n",
    "    print(\"可以投票\")\n",
    "    print(\"可以考照\")\n",
    "else:\n",
    "    print(\"不可投票\")\n",
    "    print(\"不可考照\")\n",
    "print(\"結束\")    "
   ]
  },
  {
   "cell_type": "code",
   "execution_count": 34,
   "metadata": {},
   "outputs": [
    {
     "name": "stdout",
     "output_type": "stream",
     "text": [
      "分數超過300,請重新輸入\n",
      "學生分數 -10\n",
      "結束\n"
     ]
    }
   ],
   "source": [
    "try:\n",
    "    scores = int(input(\"請輸入學生分數(最高300):\"))\n",
    "except:\n",
    "    print(\"格式錯誤\")  \n",
    "else :     \n",
    "    if not (scores <= 300 and scores >=0):\n",
    "       print(\"分數超過300,請重新輸入\") \n",
    "    else :\n",
    "       is_add = input(\"加分否? (y,n)\")   \n",
    "       if is_add == 'y' :\n",
    "          scores *= 1.05\n",
    "          if scores > 300 :\n",
    "             scores = 300  \n",
    "    print(\"學生分數\",round(scores))     \n",
    "print(\"結束\")"
   ]
  },
  {
   "cell_type": "code",
   "execution_count": 26,
   "metadata": {},
   "outputs": [
    {
     "name": "stdout",
     "output_type": "stream",
     "text": [
      "分數60~70\n"
     ]
    }
   ],
   "source": [
    "score = 75 \n",
    "if score >= 60 :\n",
    "    if score < 80 :\n",
    "        print(\"分數60~70\")"
   ]
  },
  {
   "cell_type": "code",
   "execution_count": 28,
   "metadata": {},
   "outputs": [
    {
     "name": "stdout",
     "output_type": "stream",
     "text": [
      "分數大等於80\n"
     ]
    }
   ],
   "source": [
    "score = 89\n",
    "if score < 60:\n",
    "   print(\"分數小於60\")\n",
    "if score >= 80:\n",
    "   print(\"分數大等於80\")   "
   ]
  },
  {
   "cell_type": "code",
   "execution_count": 30,
   "metadata": {},
   "outputs": [
    {
     "name": "stdout",
     "output_type": "stream",
     "text": [
      "分數60~80\n"
     ]
    }
   ],
   "source": [
    "score = 75\n",
    "if score >= 60 and score < 80:\n",
    "    print(\"分數60~80\")"
   ]
  },
  {
   "cell_type": "code",
   "execution_count": 31,
   "metadata": {},
   "outputs": [
    {
     "name": "stdout",
     "output_type": "stream",
     "text": [
      "分數小於60 或大於等於80\n"
     ]
    }
   ],
   "source": [
    "score = 89\n",
    "if score < 60 or score >= 80 :\n",
    "    print(\"分數小於60 或大於等於80\")"
   ]
  },
  {
   "cell_type": "code",
   "execution_count": 36,
   "metadata": {},
   "outputs": [
    {
     "name": "stdout",
     "output_type": "stream",
     "text": [
      "大於等於60,小於80\n"
     ]
    }
   ],
   "source": [
    "scores = 78\n",
    "if scores < 60:\n",
    "    print(\"小於等於60\")\n",
    "elif scores < 80:\n",
    "    print(\"大於等於60,小於80\")\n",
    "else :\n",
    "    print(\"大於等於80\")"
   ]
  },
  {
   "cell_type": "code",
   "execution_count": null,
   "metadata": {},
   "outputs": [],
   "source": [
    "try:\n",
    "    scores = int(input(\"請輸入學生分數(最高300):\"))\n",
    "\n",
    "    \n",
    "    if not (scores <= 300 and scores >=0):\n",
    "       print(\"分數超過300,請重新輸入\") \n",
    "    else :\n",
    "       is_add = input(\"加分否? (y,n)\")   \n",
    "       if is_add == 'y' :\n",
    "          scores *= 1.05\n",
    "          if scores > 300 :\n",
    "             scores = 300  \n",
    "    print(\"學生分數\",round(scores)) \n",
    "except        \n",
    "print(\"結束\")"
   ]
  },
  {
   "cell_type": "code",
   "execution_count": null,
   "metadata": {},
   "outputs": [],
   "source": []
  }
 ],
 "metadata": {
  "kernelspec": {
   "display_name": "Python 3",
   "language": "python",
   "name": "python3"
  },
  "language_info": {
   "codemirror_mode": {
    "name": "ipython",
    "version": 3
   },
   "file_extension": ".py",
   "mimetype": "text/x-python",
   "name": "python",
   "nbconvert_exporter": "python",
   "pygments_lexer": "ipython3",
   "version": "3.10.14"
  }
 },
 "nbformat": 4,
 "nbformat_minor": 2
}
