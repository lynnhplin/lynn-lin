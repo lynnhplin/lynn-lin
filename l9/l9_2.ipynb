{
 "cells": [
  {
   "cell_type": "code",
   "execution_count": 1,
   "metadata": {},
   "outputs": [
    {
     "name": "stdout",
     "output_type": "stream",
     "text": [
      "False\n"
     ]
    }
   ],
   "source": [
    "file = open(\"aqx_p_488-2.csv\",encoding=\"utf-8\",newline='')\n",
    "print(file.closed)\n",
    "file.close()"
   ]
  },
  {
   "cell_type": "code",
   "execution_count": 7,
   "metadata": {},
   "outputs": [
    {
     "name": "stdout",
     "output_type": "stream",
     "text": [
      "sitename,county,aqi,pollutant,status,so2,co,o3,o3_8hr,pm10,pm2.5,no2,nox,no,windspeed,winddirec,datacreationdate,unit,co_8hr,pm2.5_avg,pm10_avg,so2_avg,longitude,latitude,siteid\n",
      "屏東(枋山),屏東縣,31,,良好,0.4,0.17,43.2,33.3,25,9,1.2,1.4,0.1,1.6,280,\"2024-05-25 10:00\",,0.1,8.5,19,0,120.651472,22.260899,313\n",
      "大甲（日南國小）,臺中市,18,,良好,1.1,0.27,16.3,7.2,18,7,8.8,13.7,4.8,1.1,9,\"2024-05-25 10:00\",,0.2,5.5,17,0,120.65525382,24.39017512,312\n"
     ]
    }
   ],
   "source": [
    "with open(\"aqx_p_488-2.csv\",encoding=\"utf-8\") as file:\n",
    "     print(file.readline(),end='')\n",
    "     print(file.readline(),end='')\n",
    "     print(file.readline(),end='')"
   ]
  },
  {
   "cell_type": "code",
   "execution_count": 1,
   "metadata": {},
   "outputs": [
    {
     "name": "stdout",
     "output_type": "stream",
     "text": [
      "數量:1002\n"
     ]
    }
   ],
   "source": [
    "with open(\"aqx_p_488-2.csv\",encoding=\"utf-8\",newline='') as file:\n",
    "    content:str = file.read()\n",
    "    names:list[str] = content.split(sep='\\n')\n",
    "print(f\"數量:{len(names)}\")"
   ]
  },
  {
   "cell_type": "code",
   "execution_count": null,
   "metadata": {},
   "outputs": [],
   "source": [
    "with open(\"aqx_p_488-2.csv\",encoding=\"utf-8\",newline='') as file:\n",
    "    content:str = file.read()\n",
    "    print(content)"
   ]
  },
  {
   "cell_type": "code",
   "execution_count": null,
   "metadata": {},
   "outputs": [],
   "source": [
    "from csv import DictReader\n",
    "\n",
    "with open(\"aqx_p_488-2.csv\",encoding=\"utf-8\",newline='') as file:\n",
    "    reader:DictReader= DictReader(file)\n",
    "    sites:list[dict] =list(reader)\n",
    " \n",
    "for site in sites:\n",
    "    if '大城' == site['sitename'] : \n",
    "        print(site)        \n",
    "for site in sites:\n",
    "    if '彰化縣' == site['county'] : \n",
    "        print(site)                "
   ]
  },
  {
   "cell_type": "code",
   "execution_count": 19,
   "metadata": {},
   "outputs": [
    {
     "name": "stdout",
     "output_type": "stream",
     "text": [
      "彰化（員林）彰化縣45良好\n",
      "大城彰化縣40良好\n",
      "二林彰化縣59普通\n",
      "線西彰化縣34良好\n",
      "彰化彰化縣29良好\n",
      "彰化（員林）彰化縣46良好\n",
      "大城彰化縣47良好\n",
      "二林彰化縣61普通\n",
      "線西彰化縣31良好\n",
      "彰化彰化縣31良好\n",
      "彰化（員林）彰化縣46良好\n",
      "大城彰化縣53普通\n",
      "二林彰化縣60普通\n",
      "線西彰化縣31良好\n",
      "彰化彰化縣31良好\n",
      "彰化（員林）彰化縣44良好\n",
      "大城彰化縣60普通\n",
      "二林彰化縣60普通\n",
      "線西彰化縣31良好\n",
      "彰化彰化縣32良好\n",
      "彰化（員林）彰化縣43良好\n",
      "大城彰化縣60普通\n",
      "二林彰化縣60普通\n",
      "線西彰化縣33良好\n",
      "彰化彰化縣35良好\n",
      "彰化（員林）彰化縣42良好\n",
      "大城彰化縣59普通\n",
      "二林彰化縣61普通\n",
      "線西彰化縣36良好\n",
      "彰化彰化縣33良好\n",
      "彰化（員林）彰化縣43良好\n",
      "大城彰化縣57普通\n",
      "二林彰化縣62普通\n",
      "線西彰化縣38良好\n",
      "彰化彰化縣35良好\n",
      "彰化（員林）彰化縣45良好\n",
      "大城彰化縣51普通\n",
      "二林彰化縣60普通\n",
      "線西彰化縣38良好\n",
      "彰化彰化縣32良好\n",
      "彰化（員林）彰化縣49良好\n",
      "大城彰化縣45良好\n",
      "二林彰化縣60普通\n",
      "線西彰化縣34良好\n",
      "彰化彰化縣36良好\n",
      "彰化（員林）彰化縣52普通\n",
      "大城彰化縣38良好\n",
      "二林彰化縣58普通\n",
      "線西彰化縣38良好\n",
      "彰化彰化縣37良好\n",
      "彰化（員林）彰化縣53普通\n",
      "大城彰化縣31良好\n",
      "二林彰化縣54普通\n",
      "線西彰化縣45良好\n",
      "彰化彰化縣37良好\n",
      "彰化（員林）彰化縣52普通\n",
      "大城彰化縣28良好\n",
      "二林彰化縣49良好\n",
      "線西彰化縣50良好\n",
      "彰化彰化縣43良好\n"
     ]
    }
   ],
   "source": [
    "from csv import DictReader\n",
    "with open('aqx_p_488-2.csv',encoding='utf-8',newline='') as file:\n",
    "    reader:DictReader = DictReader(file)\n",
    "    sites:list[dict]= list(reader)\n",
    "\n",
    "for site in sites:\n",
    "    if '彰化縣' == site['county'] : \n",
    "       print(site['sitename'],end='')    \n",
    "       print(site['county'],end='')    \n",
    "       print(site['aqi'],end='')    \n",
    "       print(site['status'])    "
   ]
  }
 ],
 "metadata": {
  "kernelspec": {
   "display_name": "Python 3",
   "language": "python",
   "name": "python3"
  },
  "language_info": {
   "codemirror_mode": {
    "name": "ipython",
    "version": 3
   },
   "file_extension": ".py",
   "mimetype": "text/x-python",
   "name": "python",
   "nbconvert_exporter": "python",
   "pygments_lexer": "ipython3",
   "version": "3.10.14"
  }
 },
 "nbformat": 4,
 "nbformat_minor": 2
}
