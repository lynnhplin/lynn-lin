{
 "cells": [
  {
   "cell_type": "code",
   "execution_count": 2,
   "metadata": {},
   "outputs": [],
   "source": [
    "import pydantic\n"
   ]
  },
  {
   "cell_type": "code",
   "execution_count": 4,
   "metadata": {},
   "outputs": [],
   "source": [
    "from pydantic import BaseModel\n",
    "class person(BaseModel) :\n",
    "     f_n:str \n",
    "     l_n:str\n",
    "     age:int    \n"
   ]
  },
  {
   "cell_type": "code",
   "execution_count": 8,
   "metadata": {},
   "outputs": [
    {
     "name": "stdout",
     "output_type": "stream",
     "text": [
      "lynn\n",
      "lin\n",
      "35\n",
      "f_n='lynn' l_n='lin' age=35\n"
     ]
    }
   ],
   "source": [
    "p1=person(f_n='lynn',l_n='lin',age = 35)\n",
    "print(p1.f_n)\n",
    "print(p1.l_n)\n",
    "print(p1.age)\n",
    "print(p1)"
   ]
  },
  {
   "cell_type": "code",
   "execution_count": 9,
   "metadata": {},
   "outputs": [
    {
     "data": {
      "text/plain": [
       "person(f_n='lynn', l_n='lin', age=35)"
      ]
     },
     "execution_count": 9,
     "metadata": {},
     "output_type": "execute_result"
    }
   ],
   "source": [
    "p2=person(f_n='lynn',l_n='lin',age = 35)\n",
    "p2"
   ]
  },
  {
   "cell_type": "code",
   "execution_count": 16,
   "metadata": {},
   "outputs": [
    {
     "name": "stdout",
     "output_type": "stream",
     "text": [
      "f_n='lynn' l_n='lin' age=35\n"
     ]
    }
   ],
   "source": [
    "try:\n",
    "    f_na =input(\"pls input f_name :\")\n",
    "    l_na =input(\"pls input l_name :\")\n",
    "    m_age=int(input(\"pls input age :\"))\n",
    "    p3=person(f_n=f_na,l_n=l_na,age = m_age)\n",
    "    print(p3)\n",
    "except Exception as e:\n",
    "    print(e)    "
   ]
  },
  {
   "cell_type": "code",
   "execution_count": 18,
   "metadata": {},
   "outputs": [
    {
     "data": {
      "text/plain": [
       "person(f_n='lynn', l_n='lin', age=35)"
      ]
     },
     "execution_count": 18,
     "metadata": {},
     "output_type": "execute_result"
    }
   ],
   "source": [
    "data:dict ={\n",
    "    \"f_n\": \"lynn\",\n",
    "    \"l_n\": \"lin\",\n",
    "    \"age\" :35, \n",
    "}\n",
    "p4 = person.model_validate(data)    \n",
    "p4"
   ]
  },
  {
   "cell_type": "code",
   "execution_count": 24,
   "metadata": {},
   "outputs": [
    {
     "data": {
      "text/plain": [
       "person(f_n='lynn', l_n='lin', age=35)"
      ]
     },
     "execution_count": 24,
     "metadata": {},
     "output_type": "execute_result"
    }
   ],
   "source": [
    "data_json:str ='''\n",
    "{\n",
    "    \"f_n\": \"lynn\",\n",
    "    \"l_n\": \"lin\",\n",
    "    \"age\" :35 \n",
    "}\n",
    "'''\n",
    "p5 = person.model_validate_json(data_json)\n",
    "p5"
   ]
  },
  {
   "cell_type": "code",
   "execution_count": 27,
   "metadata": {},
   "outputs": [
    {
     "data": {
      "text/plain": [
       "person(f_n='lynn', l_n=None, age=30)"
      ]
     },
     "execution_count": 27,
     "metadata": {},
     "output_type": "execute_result"
    }
   ],
   "source": [
    "class person(BaseModel) :\n",
    "    f_n:str     #require   \n",
    "    l_n:str | None=None #optional\n",
    "    age:int =30      #optional\n",
    "\n",
    "data_json:str ='''\n",
    "{\n",
    "    \"f_n\": \"lynn\"\n",
    "\n",
    "}\n",
    "'''\n",
    "p6 = person.model_validate_json(data_json)\n",
    "p6"
   ]
  },
  {
   "cell_type": "code",
   "execution_count": 34,
   "metadata": {},
   "outputs": [
    {
     "data": {
      "text/plain": [
       "Person(id_=100, first_name='John', last_name='Smith', age=42)"
      ]
     },
     "execution_count": 34,
     "metadata": {},
     "output_type": "execute_result"
    }
   ],
   "source": [
    "from pydantic import BaseModel,Field\n",
    "data:str = '''\n",
    "{\n",
    "    \"id\":100,\n",
    "    \"First Name\":\"John\",\n",
    "    \"LASTNAME\":\"Smith\",\n",
    "    \"age in years\": 42\n",
    "}\n",
    "'''\n",
    "\n",
    "class Person(BaseModel):\n",
    "    id_:int = Field(alias=\"id\")\n",
    "    first_name:str = Field(alias='First Name')\n",
    "    last_name:str | None = Field(alias='LASTNAME',default=None)\n",
    "    age:int = Field(alias='age in years',default=18)\n",
    "\n",
    "p8 = Person.model_validate_json(data)\n",
    "p8"
   ]
  },
  {
   "cell_type": "code",
   "execution_count": 37,
   "metadata": {},
   "outputs": [
    {
     "name": "stdout",
     "output_type": "stream",
     "text": [
      "first_name='Arthur' last_name='Clarke' born=born(place=place(country='Lunar Colony', city='Central City'), date='2001-01-01')\n"
     ]
    }
   ],
   "source": [
    "data = '''\n",
    "{\n",
    "    \"firstName\": \"Arthur\",\n",
    "    \"lastName\": \"Clarke\",\n",
    "    \"born\":{\n",
    "        \"place\":{\n",
    "            \"country\":\"Lunar Colony\",\n",
    "            \"city\": \"Central City\"\n",
    "        },\n",
    "        \"date\":\"2001-01-01\"\n",
    "    }\n",
    "}\n",
    "'''\n",
    "class place(BaseModel):\n",
    "    country :str\n",
    "    city :str\n",
    "\n",
    "class born(BaseModel):\n",
    "     place :place\n",
    "     date :str\n",
    "\n",
    "class person(BaseModel):\n",
    "     first_name:str =Field(alias=\"firstName\")\n",
    "     last_name:str =Field(alias=\"lastName\")\n",
    "     born:born\n",
    "\n",
    "p9=person.model_validate_json(data)     \n",
    "print(p9)"
   ]
  }
 ],
 "metadata": {
  "kernelspec": {
   "display_name": "Python 3",
   "language": "python",
   "name": "python3"
  },
  "language_info": {
   "codemirror_mode": {
    "name": "ipython",
    "version": 3
   },
   "file_extension": ".py",
   "mimetype": "text/x-python",
   "name": "python",
   "nbconvert_exporter": "python",
   "pygments_lexer": "ipython3",
   "version": "3.10.14"
  }
 },
 "nbformat": 4,
 "nbformat_minor": 2
}
