{
 "cells": [
  {
   "cell_type": "code",
   "execution_count": null,
   "metadata": {},
   "outputs": [],
   "source": [
    "from pydantic import BaseModel,Field\n",
    "\n",
    "class Site(BaseModel):\n",
    "    site_name:str = Field(alias='sitename')\n",
    "    county :str\n",
    "    aqi : int\n",
    "    status :str\n",
    "\n",
    "class AQI(BaseModel):\n",
    "    records:list[Site] \n",
    "\n",
    "import json \n",
    "with open('aqx_p_488-2.json',encoding='utf-8') as file:\n",
    "    content:str = file.read()\n",
    "    aqi:AQI = AQI.model_validate_json(content)\n",
    "\n",
    "sites:list[Site] = aqi.records      \n",
    "\n",
    "for site in sites:\n",
    "    print(site)  "
   ]
  },
  {
   "cell_type": "code",
   "execution_count": null,
   "metadata": {},
   "outputs": [],
   "source": [
    "from  pydantic import BaseModel,Field\n",
    "\n",
    "class Detail(BaseModel):\n",
    "    name_ins:str = Field(alias='Name_Ins')\n",
    "    no :str =Field(alias='No')\n",
    "    address:str =Field(alias='Address')\n",
    "    tax:str= Field(alias='tax_ID_number')\n",
    "    wgs84ax : str = Field(alias='wgs84aX')\n",
    "    wgs84ay : str = Field(alias='wgs84aY')\n",
    "\n",
    "class Fac_r(BaseModel):\n",
    "    records:list[Detail] \n",
    "\n",
    "class Fac(BaseModel):\n",
    "    result:Fac_r\n",
    "\n",
    "import json \n",
    "with open('新北市食品工廠清冊.json',encoding='utf-8') as file:\n",
    "    content:str=file.read()\n",
    "    datas:list = Fac.model_validate_json(content)\n",
    "\n",
    "final:list[Detail] = datas.result.records      \n",
    "\n",
    "for finals in final:\n",
    "    print(finals)  "
   ]
  },
  {
   "cell_type": "code",
   "execution_count": 1,
   "metadata": {},
   "outputs": [
    {
     "ename": "NameError",
     "evalue": "name 'Fac' is not defined",
     "output_type": "error",
     "traceback": [
      "\u001b[0;31m---------------------------------------------------------------------------\u001b[0m",
      "\u001b[0;31mNameError\u001b[0m                                 Traceback (most recent call last)",
      "Cell \u001b[0;32mIn[1], line 4\u001b[0m\n\u001b[1;32m      2\u001b[0m \u001b[38;5;28;01mwith\u001b[39;00m \u001b[38;5;28mopen\u001b[39m(\u001b[38;5;124m'\u001b[39m\u001b[38;5;124m新北市食品工廠清冊.json\u001b[39m\u001b[38;5;124m'\u001b[39m,encoding\u001b[38;5;241m=\u001b[39m\u001b[38;5;124m'\u001b[39m\u001b[38;5;124mutf-8\u001b[39m\u001b[38;5;124m'\u001b[39m) \u001b[38;5;28;01mas\u001b[39;00m file:\n\u001b[1;32m      3\u001b[0m     content:\u001b[38;5;28mstr\u001b[39m\u001b[38;5;241m=\u001b[39mfile\u001b[38;5;241m.\u001b[39mread()\n\u001b[0;32m----> 4\u001b[0m     datas:\u001b[38;5;28mlist\u001b[39m \u001b[38;5;241m=\u001b[39m \u001b[43mFac\u001b[49m\u001b[38;5;241m.\u001b[39mmodel_validate_json(content)\n\u001b[1;32m      6\u001b[0m final:\u001b[38;5;28mlist\u001b[39m[Detail] \u001b[38;5;241m=\u001b[39m datas\u001b[38;5;241m.\u001b[39mresult\u001b[38;5;241m.\u001b[39mrecords      \n\u001b[1;32m      8\u001b[0m \u001b[38;5;28;01mfor\u001b[39;00m finals \u001b[38;5;129;01min\u001b[39;00m final:\n",
      "\u001b[0;31mNameError\u001b[0m: name 'Fac' is not defined"
     ]
    },
    {
     "name": "stderr",
     "output_type": "stream",
     "text": [
      "Bad pipe message: %s [b'0.9,image/avif,image/webp,image/apng,*/*;q=0.8,application/signed-exchange;v=b3;q=0.7\\r\\nHost: localhost:39803\\r\\nUs', b'-Agent: Mozilla/5.0 (Windows NT 10.0; Win64; x64) AppleWebKit/537.36 (KHTML, like Gecko) Chrome/121.']\n",
      "Bad pipe message: %s [b'0.0 Safari/537.36\\r\\nAccept-Encoding: gzip, defla']\n",
      "Bad pipe message: %s [b', br\\r\\nAccept-Language: zh-TW,zh;q=0.9,en-US;q=0.8,en;q=0.7\\r\\nCache-Control: max-age=0\\r\\nReferer: https://github.com/\\r', b'-Request-']\n",
      "Bad pipe message: %s [b': f5ffe03a6d26bc5f9d90e9f9ac850582\\r\\nX-Real-IP: 10.240.5.127\\r\\nX-Forwarded']\n",
      "Bad pipe message: %s [b'ort: 443\\r\\nX-Forwarded-Scheme: https\\r\\nX-Origi']\n",
      "Bad pipe message: %s [b'l-URI: /\\r\\nX-Scheme: https\\r\\nsec-fetch-site: cross-site\\r\\nsec-fetch-mode: navigate\\r\\nsec-fetch-dest: document\\r\\nse', b'ch-ua: \"Not A(Brand\";v=\"99\", \"Google Chrome\";v=\"121\", \"Chromium\";v=\"121\"\\r\\nsec-ch-ua-mobile: ?0\\r\\nse', b'ch-ua-platform: \"Windows\"\\r\\nX-Original-Proto: https\\r\\nX-Forwarded-Proto: https\\r\\nX-Forwarded-Host: gl', b'ious-xylophone-r479r64v5jxq356j9-39803.app.github.dev\\r\\nX-Forwarded-For: 10.240.5.127\\r\\nProxy-Connection: Keep-A']\n"
     ]
    }
   ],
   "source": [
    "import json \n",
    "with open('新北市食品工廠清冊.json',encoding='utf-8') as file:\n",
    "    content:str=file.read()\n",
    "    datas:list = Fac.model_validate_json(content)\n",
    "\n",
    "final:list[Detail] = datas.result.records      \n",
    "\n",
    "for finals in final:\n",
    "    print(finals)  "
   ]
  },
  {
   "cell_type": "code",
   "execution_count": null,
   "metadata": {},
   "outputs": [],
   "source": []
  }
 ],
 "metadata": {
  "kernelspec": {
   "display_name": "Python 3",
   "language": "python",
   "name": "python3"
  },
  "language_info": {
   "codemirror_mode": {
    "name": "ipython",
    "version": 3
   },
   "file_extension": ".py",
   "mimetype": "text/x-python",
   "name": "python",
   "nbconvert_exporter": "python",
   "pygments_lexer": "ipython3",
   "version": "3.10.14"
  }
 },
 "nbformat": 4,
 "nbformat_minor": 2
}
