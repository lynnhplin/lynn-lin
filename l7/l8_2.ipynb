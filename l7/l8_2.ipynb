{
 "cells": [
  {
   "cell_type": "code",
   "execution_count": 5,
   "metadata": {},
   "outputs": [
    {
     "ename": "TypeError",
     "evalue": "student.__init__() takes 4 positional arguments but 5 were given",
     "output_type": "error",
     "traceback": [
      "\u001b[0;31m---------------------------------------------------------------------------\u001b[0m",
      "\u001b[0;31mTypeError\u001b[0m                                 Traceback (most recent call last)",
      "Cell \u001b[0;32mIn[5], line 13\u001b[0m\n\u001b[1;32m     11\u001b[0m     \u001b[38;5;28;01mdef\u001b[39;00m \u001b[38;5;21mavg\u001b[39m(\u001b[38;5;28mself\u001b[39m)\u001b[38;5;241m-\u001b[39m\u001b[38;5;241m>\u001b[39m\u001b[38;5;28mfloat\u001b[39m :\n\u001b[1;32m     12\u001b[0m         \u001b[38;5;28;01mreturn\u001b[39;00m \u001b[38;5;28mround\u001b[39m(\u001b[38;5;28mself\u001b[39m\u001b[38;5;241m.\u001b[39msum \u001b[38;5;241m/\u001b[39m \u001b[38;5;241m3\u001b[39m,ndigits\u001b[38;5;241m=\u001b[39m\u001b[38;5;241m2\u001b[39m)\n\u001b[0;32m---> 13\u001b[0m s1 \u001b[38;5;241m=\u001b[39m \u001b[43mstudent\u001b[49m\u001b[43m(\u001b[49m\u001b[38;5;124;43m\"\u001b[39;49m\u001b[38;5;124;43m林惠萍\u001b[39;49m\u001b[38;5;124;43m\"\u001b[39;49m\u001b[43m,\u001b[49m\u001b[38;5;241;43m90\u001b[39;49m\u001b[43m,\u001b[49m\u001b[38;5;241;43m80\u001b[39;49m\u001b[43m,\u001b[49m\u001b[38;5;241;43m70\u001b[39;49m\u001b[43m)\u001b[49m \n\u001b[1;32m     14\u001b[0m \u001b[38;5;28mprint\u001b[39m(s1\u001b[38;5;241m.\u001b[39mname)  \n\u001b[1;32m     15\u001b[0m \u001b[38;5;28mprint\u001b[39m(s1\u001b[38;5;241m.\u001b[39mchinese)  \n",
      "\u001b[0;31mTypeError\u001b[0m: student.__init__() takes 4 positional arguments but 5 were given"
     ]
    }
   ],
   "source": []
  },
  {
   "cell_type": "code",
   "execution_count": 4,
   "metadata": {},
   "outputs": [
    {
     "name": "stdout",
     "output_type": "stream",
     "text": [
      "格式錯誤,身高體重請輸入數字\n"
     ]
    }
   ],
   "source": [
    "from dataclasses import dataclass\n",
    "\n",
    "@dataclass\n",
    "class Bmi:\n",
    "    w_n :str\n",
    "    w_h:int\n",
    "    w_w:int\n",
    "\n",
    "    @property\n",
    "    def w_b(self)->int:\n",
    "        \n",
    "        return round( self.w_w / ((self.w_h/100) ** 2),1 )\n",
    "\n",
    "    def w_r(self)->str :\n",
    "               if self.w_b() < 18.5 :\n",
    "                   result = \"過輕\"\n",
    "               elif self.w_b() < 24:\n",
    "                  result = \"正常\"\n",
    "               elif self.w_b() < 27:\n",
    "                  result = \"過重\"\n",
    "               elif self.w_b() < 30:\n",
    "                  result = \"輕度肥胖\"\n",
    "               elif self.w_b() < 35:\n",
    "                 result = \"中度肥胖\"\n",
    "               else :\n",
    "                 result = \"重度肥胖\"\n",
    "                 return result \n",
    "    def __repr__(self):\n",
    "        message = f\"{self.w_n} 您好, BMI:{self.w_b()}, 體重:{self.w_r()}\"\n",
    "        return message\n",
    "\n",
    "try:.\n",
    "    name  = input(\"請輸入姓名:\")\n",
    "    height = int(input(\"請輸入身高(cm):\"))\n",
    "    weight = int(input(\"請輸入體重(kg):\"))\n",
    "\n",
    "    s1 = Bmi(name,height,weight)  \n",
    "\n",
    "    print(s1)\n",
    "\n",
    "except:\n",
    "    print(\"格式錯誤,身高體重請輸入數字\")\n",
    "    "
   ]
  },
  {
   "cell_type": "markdown",
   "metadata": {},
   "source": []
  },
  {
   "cell_type": "code",
   "execution_count": null,
   "metadata": {},
   "outputs": [],
   "source": []
  },
  {
   "cell_type": "markdown",
   "metadata": {},
   "source": []
  },
  {
   "cell_type": "code",
   "execution_count": null,
   "metadata": {},
   "outputs": [],
   "source": []
  },
  {
   "cell_type": "code",
   "execution_count": 4,
   "metadata": {},
   "outputs": [
    {
     "ename": "IndentationError",
     "evalue": "unexpected indent (3761994575.py, line 10)",
     "output_type": "error",
     "traceback": [
      "\u001b[0;36m  Cell \u001b[0;32mIn[4], line 10\u001b[0;36m\u001b[0m\n\u001b[0;31m    def weight(self) -> float:\u001b[0m\n\u001b[0m    ^\u001b[0m\n\u001b[0;31mIndentationError\u001b[0m\u001b[0;31m:\u001b[0m unexpected indent\n"
     ]
    }
   ],
   "source": [
    "from dataclasses import dataclass\n",
    "\n",
    "@dataclass\n",
    "class BMI:\n",
    "    name:str\n",
    "    __weight:float\n",
    "__height:float\n",
    "\n",
    "@property\n",
    "                    def weight(self) -> float:\n",
    "                            return self.__weight\n",
    "                                @property\n",
    "                                    def height(self) -> float:\n",
    "                                            return self.__height\n",
    "\n",
    "                                                def bmi_result(self) -> float:\n",
    "                                                        return round( self.weight / ((self.height/100) ** 2),1 )\n",
    "\n",
    "                                                            def bmi_txt(self) -> str:\n",
    "                                                                    if self.bmi_result() < 18.5:\n",
    "                                                                                txt = \"體重過輕\"\n",
    "                                                                                        elif self.bmi_result() < 24:\n",
    "                                                                                                    txt = \"正常範圍\"\n",
    "                                                                                                            elif self.bmi_result() < 27:\n",
    "                                                                                                                        txt = \"過重\"\n",
    "                                                                                                                                elif self.bmi_result() < 30:\n",
    "                                                                                                                                            txt = \"輕度肥胖\"\n",
    "                                                                                                                                                    elif self.bmi_result() < 35:\n",
    "                                                                                                                                                                txt = \"中度肥胖\"\n",
    "                                                                                                                                                                        else:\n",
    "                                                                                                                                                                                    txt = \"重度肥胖\"\n",
    "                                                                                                                                                                                            return txt\n",
    "                                                                                                                                                                                                \n",
    "                                                                                                                                                                                                    def __repr__(self):\n",
    "                                                                                                                                                                                                            message = f\"{self.name} 您好, BMI:{self.bmi_result()}, 體重:{self.bmi_txt()}\"\n",
    "                                                                                                                                                                                                                    return message\n",
    "\n",
    "                                                                                                                                                                                                                    try:\n",
    "                                                                                                                                                                                                                        n = input(\"請輸入姓名:\").strip() or \"匿名者\"\n",
    "                                                                                                                                                                                                                            w = float(input(\"體重(kg):\"))\n",
    "                                                                                                                                                                                                                                h = float(input(\"身高(cm):\"))\n",
    "                                                                                                                                                                                                                                    \n",
    "                                                                                                                                                                                                                                        bmi = BMI(n, w, h)\n",
    "                                                                                                                                                                                                                                            print(bmi)\n",
    "\n",
    "                                                                                                                                                                                                                                            except:\n",
    "                                                                                                                                                                                                                                                    print(\"格式輸入錯誤!!\")\n",
    "\n",
    "                                                                                                                                                                                                                                                    print(\"程式結束~\")\n",
    "                                                                                                                                                                                                                        "
   ]
  },
  {
   "cell_type": "code",
   "execution_count": 5,
   "metadata": {},
   "outputs": [
    {
     "ename": "TypeError",
     "evalue": "student.__init__() takes 4 positional arguments but 5 were given",
     "output_type": "error",
     "traceback": [
      "\u001b[0;31m---------------------------------------------------------------------------\u001b[0m",
      "\u001b[0;31mTypeError\u001b[0m                                 Traceback (most recent call last)",
      "Cell \u001b[0;32mIn[5], line 14\u001b[0m\n\u001b[1;32m     11\u001b[0m     \u001b[38;5;28;01mdef\u001b[39;00m \u001b[38;5;21mavg\u001b[39m(\u001b[38;5;28mself\u001b[39m)\u001b[38;5;241m-\u001b[39m\u001b[38;5;241m>\u001b[39m\u001b[38;5;28mfloat\u001b[39m:\n\u001b[1;32m     12\u001b[0m         \u001b[38;5;28;01mreturn\u001b[39;00m \u001b[38;5;28mround\u001b[39m(\u001b[38;5;28mself\u001b[39m\u001b[38;5;241m.\u001b[39msum \u001b[38;5;241m/\u001b[39m \u001b[38;5;241m3\u001b[39m,ndigits\u001b[38;5;241m=\u001b[39m\u001b[38;5;241m2\u001b[39m)\n\u001b[0;32m---> 14\u001b[0m s1 \u001b[38;5;241m=\u001b[39m \u001b[43mstudent\u001b[49m\u001b[43m(\u001b[49m\u001b[38;5;124;43m\"\u001b[39;49m\u001b[38;5;124;43m林\u001b[39;49m\u001b[38;5;124;43m\"\u001b[39;49m\u001b[43m,\u001b[49m\u001b[38;5;241;43m90\u001b[39;49m\u001b[43m,\u001b[49m\u001b[38;5;241;43m80\u001b[39;49m\u001b[43m,\u001b[49m\u001b[38;5;241;43m70\u001b[39;49m\u001b[43m)\u001b[49m \n\u001b[1;32m     15\u001b[0m \u001b[38;5;28mprint\u001b[39m(s1\u001b[38;5;241m.\u001b[39mname)  \n\u001b[1;32m     16\u001b[0m \u001b[38;5;28mprint\u001b[39m(s1\u001b[38;5;241m.\u001b[39mchinese)  \n",
      "\u001b[0;31mTypeError\u001b[0m: student.__init__() takes 4 positional arguments but 5 were given"
     ]
    }
   ],
   "source": [
    "from dataclasses import dataclass\n",
    "@dataclass\n",
    "class student:\n",
    "    name :str\n",
    "    english:int\n",
    "    math:int\n",
    "    @property\n",
    "    def sum(self)->int:\n",
    "        return self.chinese + self.english + self.math\n",
    "    def avg(self)->float:\n",
    "        return round(self.sum / \n",
    "print(s1.chinese)  \n",
    "print(s1.english) \n",
    "print(s1.math)\n",
    "print(s1.sum)\n",
    "print(s1.avg()) "
   ]
  },
  {
   "cell_type": "code",
   "execution_count": 1,
   "metadata": {},
   "outputs": [
    {
     "data": {
      "text/plain": [
       "[1, 3, 5, 7]"
      ]
     },
     "execution_count": 1,
     "metadata": {},
     "output_type": "execute_result"
    }
   ],
   "source": [
    "l1:list[int] = [1,3,5]\n",
    "l1.append(7)\n",
    "l1"
   ]
  },
  {
   "cell_type": "code",
   "execution_count": 2,
   "metadata": {},
   "outputs": [
    {
     "ename": "TypeError",
     "evalue": "student.__init__() takes 2 positional arguments but 5 were given",
     "output_type": "error",
     "traceback": [
      "\u001b[0;31m---------------------------------------------------------------------------\u001b[0m",
      "\u001b[0;31mTypeError\u001b[0m                                 Traceback (most recent call last)",
      "Cell \u001b[0;32mIn[2], line 13\u001b[0m\n\u001b[1;32m     11\u001b[0m \u001b[38;5;28;01mdef\u001b[39;00m \u001b[38;5;21mavg\u001b[39m(\u001b[38;5;28mself\u001b[39m)\u001b[38;5;241m-\u001b[39m\u001b[38;5;241m>\u001b[39m\u001b[38;5;28mfloat\u001b[39m : \n\u001b[1;32m     12\u001b[0m     \u001b[38;5;28;01mreturn\u001b[39;00m \u001b[38;5;28mround\u001b[39m(\u001b[38;5;28mself\u001b[39m\u001b[38;5;241m.\u001b[39msum \u001b[38;5;241m/\u001b[39m \u001b[38;5;241m3\u001b[39m,ndigits\u001b[38;5;241m=\u001b[39m\u001b[38;5;241m2\u001b[39m) \n\u001b[0;32m---> 13\u001b[0m s1 \u001b[38;5;241m=\u001b[39m \u001b[43mstudent\u001b[49m\u001b[43m(\u001b[49m\u001b[38;5;124;43m\"\u001b[39;49m\u001b[38;5;124;43m林惠萍\u001b[39;49m\u001b[38;5;124;43m\"\u001b[39;49m\u001b[43m,\u001b[49m\u001b[38;5;241;43m90\u001b[39;49m\u001b[43m,\u001b[49m\u001b[38;5;241;43m80\u001b[39;49m\u001b[43m,\u001b[49m\u001b[38;5;241;43m70\u001b[39;49m\u001b[43m)\u001b[49m \n\u001b[1;32m     14\u001b[0m \u001b[38;5;28mprint\u001b[39m(s1\u001b[38;5;241m.\u001b[39mname) \n\u001b[1;32m     15\u001b[0m \u001b[38;5;28mprint\u001b[39m(s1\u001b[38;5;241m.\u001b[39mchinese) \n",
      "\u001b[0;31mTypeError\u001b[0m: student.__init__() takes 2 positional arguments but 5 were given"
     ]
    }
   ],
   "source": [
    "from ast import Return\n",
    "from dataclasses import dataclass \n",
    "@dataclass \n",
    "class student: name :str \n",
    "chinese:int \n",
    "english:int \n",
    "math:int \n",
    "@property \n",
    "def sum(self)->int: \n",
    "    return self.chinese + self.english + self.math \n",
    "def avg(self)->float : \n",
    "    return round(self.sum / 3,ndigits=2) \n",
    "s1 = student(\"林惠萍\",90,80,70) \n",
    "print(s1.name) \n",
    "print(s1.chinese) \n",
    "print(s1.english) \n",
    "print(s1.math) \n",
    "print(s1.sum) \n",
    "print(s1.avg()) "
   ]
  }
 ],
 "metadata": {
  "kernelspec": {
   "display_name": "Python 3",
   "language": "python",
   "name": "python3"
  },
  "language_info": {
   "codemirror_mode": {
    "name": "ipython",
    "version": 3
   },
   "file_extension": ".py",
   "mimetype": "text/x-python",
   "name": "python",
   "nbconvert_exporter": "python",
   "pygments_lexer": "ipython3",
   "version": "3.10.14"
  }
 },
 "nbformat": 4,
 "nbformat_minor": 2
}
