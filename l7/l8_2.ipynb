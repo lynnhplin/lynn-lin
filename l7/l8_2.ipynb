{
 "cells": [
  {
   "cell_type": "code",
   "execution_count": 9,
   "metadata": {},
   "outputs": [
    {
     "name": "stdout",
     "output_type": "stream",
     "text": [
      "林惠萍\n",
      "90\n",
      "80\n",
      "70\n",
      "240\n",
      "80.0\n"
     ]
    }
   ],
   "source": [
    "from dataclasses import dataclass\n",
    "\n",
    "@dataclass\n",
    "class student:\n",
    "    name :str\n",
    "    chinese:int\n",
    "    english:int\n",
    "    math:int\n",
    "    @property\n",
    "    def sum(self)->int:\n",
    "        return self.chinese + self.english + self.math\n",
    "    def avg(self)->float :\n",
    "        return round(self.sum / 3,ndigits=2)\n",
    "s1 = student(\"林惠萍\",90,80,70)  \n",
    "print(s1.name)  \n",
    "print(s1.chinese)  \n",
    "print(s1.english) \n",
    "print(s1.math)\n",
    "print(s1.sum)\n",
    "print(s1.avg()) "
   ]
  },
  {
   "cell_type": "code",
   "execution_count": null,
   "metadata": {},
   "outputs": [],
   "source": []
  }
 ],
 "metadata": {
  "kernelspec": {
   "display_name": "Python 3",
   "language": "python",
   "name": "python3"
  },
  "language_info": {
   "codemirror_mode": {
    "name": "ipython",
    "version": 3
   },
   "file_extension": ".py",
   "mimetype": "text/x-python",
   "name": "python",
   "nbconvert_exporter": "python",
   "pygments_lexer": "ipython3",
   "version": "3.10.14"
  }
 },
 "nbformat": 4,
 "nbformat_minor": 2
}
