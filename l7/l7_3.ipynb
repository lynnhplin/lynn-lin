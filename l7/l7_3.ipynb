{
 "cells": [
  {
   "cell_type": "code",
   "execution_count": 1,
   "metadata": {},
   "outputs": [
    {
     "data": {
      "text/plain": [
       "__main__.Person"
      ]
     },
     "execution_count": 1,
     "metadata": {},
     "output_type": "execute_result"
    }
   ],
   "source": [
    "class Person():\n",
    "    pass\n",
    "\n",
    "p1 = Person()\n",
    "type(p1)"
   ]
  },
  {
   "cell_type": "code",
   "execution_count": 2,
   "metadata": {},
   "outputs": [
    {
     "name": "stdout",
     "output_type": "stream",
     "text": [
      "徐國堂\n",
      "Robert Hsu\n"
     ]
    }
   ],
   "source": [
    "class Person():\n",
    "    def __init__(self,n): #自訂的初始化\n",
    "        self.name = n #建立attribute\n",
    "\n",
    "    def __repr__(self):\n",
    "        return \"我是Person的實體\"\n",
    "\n",
    "p1 = Person(\"徐國堂\")#建立實體\n",
    "print(p1.name)\n",
    "\n",
    "p2 = Person(\"Robert Hsu\")#建立實體\n",
    "print(p2.name)"
   ]
  },
  {
   "cell_type": "code",
   "execution_count": 3,
   "metadata": {},
   "outputs": [
    {
     "name": "stdout",
     "output_type": "stream",
     "text": [
      "我是Person的實體\n",
      "我是Person的實體\n"
     ]
    }
   ],
   "source": [
    "print(p1)\n",
    "print(p2)"
   ]
  }
 ],
 "metadata": {
  "kernelspec": {
   "display_name": "Python 3",
   "language": "python",
   "name": "python3"
  },
  "language_info": {
   "codemirror_mode": {
    "name": "ipython",
    "version": 3
   },
   "file_extension": ".py",
   "mimetype": "text/x-python",
   "name": "python",
   "nbconvert_exporter": "python",
   "pygments_lexer": "ipython3",
   "version": "3.10.14"
  }
 },
 "nbformat": 4,
 "nbformat_minor": 2
}
